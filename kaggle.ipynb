{
  "nbformat": 4,
  "nbformat_minor": 0,
  "metadata": {
    "colab": {
      "name": "kaggle.ipynb",
      "provenance": [],
      "collapsed_sections": []
    },
    "kernelspec": {
      "display_name": "Python 3",
      "name": "python3"
    }
  },
  "cells": [
    {
      "cell_type": "code",
      "metadata": {
        "id": "Yh0AtXXOXVuD"
      },
      "source": [
        "from __future__ import absolute_import, division, print_function, unicode_literals\n",
        "import pathlib\n",
        "import matplotlib.pyplot as plt\n",
        "import numpy as np\n",
        "import pandas as pd\n",
        "from sklearn.model_selection import train_test_split, cross_val_score, cross_val_predict, GridSearchCV\n",
        "from sklearn.ensemble import RandomForestRegressor, AdaBoostRegressor, GradientBoostingRegressor, BaggingRegressor, ExtraTreesRegressor, VotingRegressor\n",
        "from sklearn.metrics import mean_squared_error\n",
        "from sklearn.pipeline import Pipeline"
      ],
      "execution_count": null,
      "outputs": []
    },
    {
      "cell_type": "markdown",
      "metadata": {
        "id": "QjaH2IywQQq3"
      },
      "source": [
        "# **Part1: For testing the model accuracy**"
      ]
    },
    {
      "cell_type": "code",
      "metadata": {
        "id": "Vd0uyKsFgyQ0"
      },
      "source": [
        "all_data = pd.read_csv(\"train.csv\", parse_dates=['date'])\n",
        "\n",
        "def preprocess(all_data):\n",
        "  all_data['date'] = [pd.Timestamp(date) for date in all_data['date'].values]\n",
        "  all_data['year'] = all_data['date'].apply(lambda x: x.year)\n",
        "  all_data['month'] = all_data['date'].apply(lambda x: x.month)\n",
        "  all_data['day'] = all_data['date'].apply(lambda x: x.day)\n",
        "  all_data['DayOfWeek'] = all_data['date'].apply(lambda d: d.dayofweek)\n",
        "  all_data['DayOfYear'] = all_data['date'].apply(lambda d: d.dayofyear)\n",
        "  all_data['WeekOfYear'] = all_data['date'].apply(lambda d: d.weekofyear)\n",
        "  all_data['Hour'] = all_data['date'].apply(lambda d: d.hour)\n",
        "  period_dict ={\n",
        "    23: 7, 0: 7, 1: 7,\n",
        "    2: 0, 3: 0, 4: 0,\n",
        "    5: 1, 6: 1, 7: 1,\n",
        "    8: 2, 9: 2, 10: 2, 11: 2,\n",
        "    12: 3, 13: 3,\n",
        "    14: 4, 15: 4, 16: 4, 17: 4,\n",
        "    18: 5,\n",
        "    19: 6, 20: 6, 21: 6, 22: 6,\n",
        "    }\n",
        "  all_data['PeriodOfDay']=all_data['Hour'].map(period_dict)\n",
        "  all_data['Weekend'] = all_data['date'].apply(lambda x: True if x.dayofweek in [5, 6] else False)\n",
        "  public_vacation_list = [\n",
        "    '20170102', '20170128', '20170129', '20170130', '20170131',\n",
        "    '20170405', '20170414', '20170415', '20170417', '20170501',\n",
        "    '20170503', '20170530', '20170701', '20171002', '20171005',\n",
        "    '20171028', '20171225', '20171226', '20180101', '20180216',\n",
        "    '20180217', '20180218', '20180219', '20180330', '20180331',\n",
        "    '20180402', '20180405', '20180501', '20180522', '20180618',\n",
        "    '20180702', '20180925', '20181001', '20181017', '20181225',\n",
        "    '20181226'\n",
        "  ]\n",
        "  all_data['day'] = all_data['date'].apply(lambda x: x.strftime('%Y%m%d'))\n",
        "  all_data['vacation'] = all_data['day'].apply(lambda x: True if x in public_vacation_list else False)\n",
        "  \n",
        "  return all_data\n",
        "\n",
        "\n",
        "data = preprocess(all_data)\n",
        "input = data.drop(['id','date','day','speed'], axis=1)\n",
        "target = data['speed']\n",
        "\n",
        "trainInput, testInput, trainTarget, testTarget = train_test_split(\n",
        "    input, target, test_size=0.2, random_state=1)\n"
      ],
      "execution_count": null,
      "outputs": []
    },
    {
      "cell_type": "code",
      "metadata": {
        "id": "mgH1NTluoDEx"
      },
      "source": [
        "all_data.set_index('date',inplace=True)"
      ],
      "execution_count": null,
      "outputs": []
    },
    {
      "cell_type": "code",
      "metadata": {
        "colab": {
          "base_uri": "https://localhost:8080/",
          "height": 450
        },
        "id": "AxlRsyCZvH5w",
        "outputId": "90e59c6e-da43-40c4-adfa-2d12b6539e2d"
      },
      "source": [
        "all_data.resample('D').mean()"
      ],
      "execution_count": null,
      "outputs": [
        {
          "output_type": "execute_result",
          "data": {
            "text/html": [
              "<div>\n",
              "<style scoped>\n",
              "    .dataframe tbody tr th:only-of-type {\n",
              "        vertical-align: middle;\n",
              "    }\n",
              "\n",
              "    .dataframe tbody tr th {\n",
              "        vertical-align: top;\n",
              "    }\n",
              "\n",
              "    .dataframe thead th {\n",
              "        text-align: right;\n",
              "    }\n",
              "</style>\n",
              "<table border=\"1\" class=\"dataframe\">\n",
              "  <thead>\n",
              "    <tr style=\"text-align: right;\">\n",
              "      <th></th>\n",
              "      <th>id</th>\n",
              "      <th>speed</th>\n",
              "      <th>year</th>\n",
              "      <th>month</th>\n",
              "      <th>DayOfWeek</th>\n",
              "      <th>DayOfYear</th>\n",
              "      <th>WeekOfYear</th>\n",
              "      <th>Hour</th>\n",
              "      <th>PeriodOfDay</th>\n",
              "      <th>Weekend</th>\n",
              "      <th>vacation</th>\n",
              "    </tr>\n",
              "    <tr>\n",
              "      <th>date</th>\n",
              "      <th></th>\n",
              "      <th></th>\n",
              "      <th></th>\n",
              "      <th></th>\n",
              "      <th></th>\n",
              "      <th></th>\n",
              "      <th></th>\n",
              "      <th></th>\n",
              "      <th></th>\n",
              "      <th></th>\n",
              "      <th></th>\n",
              "    </tr>\n",
              "  </thead>\n",
              "  <tbody>\n",
              "    <tr>\n",
              "      <th>2017-01-01</th>\n",
              "      <td>11.5</td>\n",
              "      <td>44.606355</td>\n",
              "      <td>2017.0</td>\n",
              "      <td>1.0</td>\n",
              "      <td>6.0</td>\n",
              "      <td>1.0</td>\n",
              "      <td>52.0</td>\n",
              "      <td>11.500000</td>\n",
              "      <td>3.458333</td>\n",
              "      <td>True</td>\n",
              "      <td>False</td>\n",
              "    </tr>\n",
              "    <tr>\n",
              "      <th>2017-01-02</th>\n",
              "      <td>746.5</td>\n",
              "      <td>35.863858</td>\n",
              "      <td>2017.0</td>\n",
              "      <td>1.0</td>\n",
              "      <td>0.0</td>\n",
              "      <td>2.0</td>\n",
              "      <td>1.0</td>\n",
              "      <td>11.500000</td>\n",
              "      <td>3.458333</td>\n",
              "      <td>False</td>\n",
              "      <td>True</td>\n",
              "    </tr>\n",
              "    <tr>\n",
              "      <th>2017-01-03</th>\n",
              "      <td>1418.5</td>\n",
              "      <td>31.895967</td>\n",
              "      <td>2017.0</td>\n",
              "      <td>1.0</td>\n",
              "      <td>1.0</td>\n",
              "      <td>3.0</td>\n",
              "      <td>1.0</td>\n",
              "      <td>11.500000</td>\n",
              "      <td>3.458333</td>\n",
              "      <td>False</td>\n",
              "      <td>False</td>\n",
              "    </tr>\n",
              "    <tr>\n",
              "      <th>2017-01-04</th>\n",
              "      <td>2162.5</td>\n",
              "      <td>33.049537</td>\n",
              "      <td>2017.0</td>\n",
              "      <td>1.0</td>\n",
              "      <td>2.0</td>\n",
              "      <td>4.0</td>\n",
              "      <td>1.0</td>\n",
              "      <td>11.500000</td>\n",
              "      <td>3.458333</td>\n",
              "      <td>False</td>\n",
              "      <td>False</td>\n",
              "    </tr>\n",
              "    <tr>\n",
              "      <th>2017-01-05</th>\n",
              "      <td>2882.5</td>\n",
              "      <td>37.776822</td>\n",
              "      <td>2017.0</td>\n",
              "      <td>1.0</td>\n",
              "      <td>3.0</td>\n",
              "      <td>5.0</td>\n",
              "      <td>1.0</td>\n",
              "      <td>11.500000</td>\n",
              "      <td>3.458333</td>\n",
              "      <td>False</td>\n",
              "      <td>False</td>\n",
              "    </tr>\n",
              "    <tr>\n",
              "      <th>...</th>\n",
              "      <td>...</td>\n",
              "      <td>...</td>\n",
              "      <td>...</td>\n",
              "      <td>...</td>\n",
              "      <td>...</td>\n",
              "      <td>...</td>\n",
              "      <td>...</td>\n",
              "      <td>...</td>\n",
              "      <td>...</td>\n",
              "      <td>...</td>\n",
              "      <td>...</td>\n",
              "    </tr>\n",
              "    <tr>\n",
              "      <th>2018-12-27</th>\n",
              "      <td>13947.5</td>\n",
              "      <td>29.479029</td>\n",
              "      <td>2018.0</td>\n",
              "      <td>12.0</td>\n",
              "      <td>3.0</td>\n",
              "      <td>361.0</td>\n",
              "      <td>52.0</td>\n",
              "      <td>13.250000</td>\n",
              "      <td>4.166667</td>\n",
              "      <td>False</td>\n",
              "      <td>False</td>\n",
              "    </tr>\n",
              "    <tr>\n",
              "      <th>2018-12-28</th>\n",
              "      <td>13960.5</td>\n",
              "      <td>32.430848</td>\n",
              "      <td>2018.0</td>\n",
              "      <td>12.0</td>\n",
              "      <td>4.0</td>\n",
              "      <td>362.0</td>\n",
              "      <td>52.0</td>\n",
              "      <td>12.857143</td>\n",
              "      <td>3.857143</td>\n",
              "      <td>False</td>\n",
              "      <td>False</td>\n",
              "    </tr>\n",
              "    <tr>\n",
              "      <th>2018-12-29</th>\n",
              "      <td>13975.0</td>\n",
              "      <td>37.689331</td>\n",
              "      <td>2018.0</td>\n",
              "      <td>12.0</td>\n",
              "      <td>5.0</td>\n",
              "      <td>363.0</td>\n",
              "      <td>52.0</td>\n",
              "      <td>10.133333</td>\n",
              "      <td>3.400000</td>\n",
              "      <td>True</td>\n",
              "      <td>False</td>\n",
              "    </tr>\n",
              "    <tr>\n",
              "      <th>2018-12-30</th>\n",
              "      <td>13987.5</td>\n",
              "      <td>42.996602</td>\n",
              "      <td>2018.0</td>\n",
              "      <td>12.0</td>\n",
              "      <td>6.0</td>\n",
              "      <td>364.0</td>\n",
              "      <td>52.0</td>\n",
              "      <td>13.400000</td>\n",
              "      <td>3.400000</td>\n",
              "      <td>True</td>\n",
              "      <td>False</td>\n",
              "    </tr>\n",
              "    <tr>\n",
              "      <th>2018-12-31</th>\n",
              "      <td>13999.0</td>\n",
              "      <td>31.388941</td>\n",
              "      <td>2018.0</td>\n",
              "      <td>12.0</td>\n",
              "      <td>0.0</td>\n",
              "      <td>365.0</td>\n",
              "      <td>1.0</td>\n",
              "      <td>9.615385</td>\n",
              "      <td>2.769231</td>\n",
              "      <td>False</td>\n",
              "      <td>False</td>\n",
              "    </tr>\n",
              "  </tbody>\n",
              "</table>\n",
              "<p>730 rows × 11 columns</p>\n",
              "</div>"
            ],
            "text/plain": [
              "                 id      speed    year  ...  PeriodOfDay  Weekend  vacation\n",
              "date                                    ...                                \n",
              "2017-01-01     11.5  44.606355  2017.0  ...     3.458333     True     False\n",
              "2017-01-02    746.5  35.863858  2017.0  ...     3.458333    False      True\n",
              "2017-01-03   1418.5  31.895967  2017.0  ...     3.458333    False     False\n",
              "2017-01-04   2162.5  33.049537  2017.0  ...     3.458333    False     False\n",
              "2017-01-05   2882.5  37.776822  2017.0  ...     3.458333    False     False\n",
              "...             ...        ...     ...  ...          ...      ...       ...\n",
              "2018-12-27  13947.5  29.479029  2018.0  ...     4.166667    False     False\n",
              "2018-12-28  13960.5  32.430848  2018.0  ...     3.857143    False     False\n",
              "2018-12-29  13975.0  37.689331  2018.0  ...     3.400000     True     False\n",
              "2018-12-30  13987.5  42.996602  2018.0  ...     3.400000     True     False\n",
              "2018-12-31  13999.0  31.388941  2018.0  ...     2.769231    False     False\n",
              "\n",
              "[730 rows x 11 columns]"
            ]
          },
          "metadata": {
            "tags": []
          },
          "execution_count": 223
        }
      ]
    },
    {
      "cell_type": "code",
      "metadata": {
        "colab": {
          "base_uri": "https://localhost:8080/"
        },
        "id": "L-8pF_5IMUbn",
        "outputId": "1e5049cf-0e81-411b-efdc-b1eabc332d9b"
      },
      "source": [
        "import lightgbm as lgb\n",
        "params = {\n",
        "    'learning_rate': 0.05,\n",
        "    'boosting_type': 'gbdt',\n",
        "    'objective': 'regression',\n",
        "    'metric': 'mse',\n",
        "    'sub_feature': 0.6,\n",
        "    'num_leaves': 300,\n",
        "    'min_data': 2,\n",
        "    'min_hessian': 1,\n",
        "    'verbose': 1,\n",
        "    'feature_fraction': 0.9,\n",
        "    'lambda_l1': 1e-4,\n",
        "}\n",
        "\n",
        "\n",
        "lgb_train = lgb.Dataset(trainInput, trainTarget)\n",
        "lgb_test = lgb.Dataset(testInput, testTarget)\n",
        "\n",
        "gbm = lgb.train(params,lgb_train,900)\n",
        "prediction1 = gbm.predict(testInput)\n",
        "print(f\"均方误差(MSE)：{mean_squared_error(prediction1, testTarget)}\")"
      ],
      "execution_count": null,
      "outputs": [
        {
          "output_type": "stream",
          "text": [
            "均方误差(MSE)：13.951039396662884\n"
          ],
          "name": "stdout"
        }
      ]
    },
    {
      "cell_type": "code",
      "metadata": {
        "id": "-C5ozyCBsRP-",
        "colab": {
          "base_uri": "https://localhost:8080/"
        },
        "outputId": "42771441-74f6-4052-fff6-0a11034ee589"
      },
      "source": [
        "regressor = RandomForestRegressor(n_estimators=300,max_features='log2',random_state=2000)\n",
        "ABmodel = AdaBoostRegressor(regressor,random_state=1).fit(trainInput, trainTarget)\n",
        "prediction2 = ABmodel.predict(testInput)\n",
        "print(f\"均方误差(MSE)：{mean_squared_error(prediction2, testTarget)}\")"
      ],
      "execution_count": null,
      "outputs": [
        {
          "output_type": "stream",
          "text": [
            "均方误差(MSE)：15.057107907490797\n"
          ],
          "name": "stdout"
        }
      ]
    },
    {
      "cell_type": "code",
      "metadata": {
        "colab": {
          "base_uri": "https://localhost:8080/"
        },
        "id": "vsUdKHWXQt4Z",
        "outputId": "1137a86a-e89e-4246-a418-dc3ab9b1e5c9"
      },
      "source": [
        "RFmodel = RandomForestRegressor(n_estimators=300,max_features='log2',random_state=2000).fit(trainInput, trainTarget)\n",
        "#print(cross_val_score(RFmodel, trainInput, trainTarget, cv=10, scoring='neg_mean_squared_error'))\n",
        "prediction3 = RFmodel.predict(testInput)\n",
        "print(f\"均方误差(MSE)：{mean_squared_error(prediction3, testTarget)}\")"
      ],
      "execution_count": null,
      "outputs": [
        {
          "output_type": "stream",
          "text": [
            "均方误差(MSE)：19.493976239628807\n"
          ],
          "name": "stdout"
        }
      ]
    },
    {
      "cell_type": "code",
      "metadata": {
        "id": "tuIZoAob-Cv2"
      },
      "source": [
        "pipe = Pipeline([('rf',  RandomForestRegressor(max_features='log2'))])\n",
        "tuned_parameters = {\n",
        "    'rf__n_estimators': range(100,1000,100),\n",
        "    'rf__random_state': range(100,2000,100),\n",
        "}\n",
        "grid = GridSearchCV(pipe, tuned_parameters, cv=10)\n",
        "grid.fit(trainInput, trainTarget)\n",
        "prediction = grid.predict(testInput)\n",
        "\n",
        "print(f\"均方误差(MSE)：{mean_squared_error(prediction, testTarget)}\")\n",
        "print(\"Best cross-validation score: {:.2f}\".format(grid.best_score_))\n",
        "print(\"Best parameters: \", grid.best_params_)\n",
        "print(\"Best estimator: \", grid.best_estimator_)"
      ],
      "execution_count": null,
      "outputs": []
    },
    {
      "cell_type": "code",
      "metadata": {
        "colab": {
          "base_uri": "https://localhost:8080/"
        },
        "id": "GcBfuFdCShJj",
        "outputId": "717b3975-a37b-4594-ade2-42a43dd4ac7a"
      },
      "source": [
        "ETmodel = ExtraTreesRegressor().fit(trainInput, trainTarget)\n",
        "#print(cross_val_score(model, trainInput, trainTarget, cv=10, scoring='neg_mean_squared_error'))\n",
        "prediction = ETmodel.predict(testInput)\n",
        "print(f\"均方误差(MSE)：{mean_squared_error(prediction, testTarget)}\")"
      ],
      "execution_count": null,
      "outputs": [
        {
          "output_type": "stream",
          "text": [
            "均方误差(MSE)：22.982645499357098\n"
          ],
          "name": "stdout"
        }
      ]
    },
    {
      "cell_type": "code",
      "metadata": {
        "colab": {
          "base_uri": "https://localhost:8080/"
        },
        "id": "j50e1AmrSyBP",
        "outputId": "3b282b12-a26a-48c8-9135-e1026f563ca0"
      },
      "source": [
        "Bmodel = BaggingRegressor(random_state=0).fit(trainInput, trainTarget)\n",
        "#print(cross_val_score(model, trainInput, trainTarget, cv=10, scoring='neg_mean_squared_error'))\n",
        "prediction = Bmodel.predict(testInput)\n",
        "print(f\"均方误差(MSE)：{mean_squared_error(prediction, testTarget)}\")"
      ],
      "execution_count": null,
      "outputs": [
        {
          "output_type": "stream",
          "text": [
            "均方误差(MSE)：22.356993269923542\n"
          ],
          "name": "stdout"
        }
      ]
    },
    {
      "cell_type": "code",
      "metadata": {
        "id": "gQsXUsIrS2Ex"
      },
      "source": [
        "weight = [2,1,4,1]\n",
        "voting = VotingRegressor(estimators=[('rf',RFmodel),('et',ETmodel),('ab',ABmodel),('b',Bmodel)],weights=weight)\n",
        "voting.fit(trainInput, trainTarget)\n",
        "print(cross_val_score(voting, trainInput, trainTarget, cv=10, scoring='neg_mean_squared_error'))\n",
        "prediction = voting.predict(testInput)\n",
        "print(f\"均方误差(MSE)：{mean_squared_error(prediction, testTarget)}\")"
      ],
      "execution_count": null,
      "outputs": []
    },
    {
      "cell_type": "markdown",
      "metadata": {
        "id": "LZjAb6R_QWfe"
      },
      "source": [
        "# **Part2: For generating the submission data**"
      ]
    },
    {
      "cell_type": "code",
      "metadata": {
        "id": "KniAsElx9cqB"
      },
      "source": [
        "all_data = pd.read_csv(\"train.csv\", parse_dates=['date'])\n",
        "test_data = pd.read_csv(\"test.csv\", parse_dates=['date'])\n",
        "\n",
        "def preprocess(all_data):\n",
        "  all_data['date'] = [pd.Timestamp(date) for date in all_data['date'].values]\n",
        "  all_data['year'] = all_data['date'].apply(lambda x: x.year)\n",
        "  all_data['month'] = all_data['date'].apply(lambda x: x.month)\n",
        "  all_data['day'] = all_data['date'].apply(lambda x: x.day)\n",
        "  all_data['DayOfWeek'] = all_data['date'].apply(lambda d: d.dayofweek)\n",
        "  all_data['DayOfYear'] = all_data['date'].apply(lambda d: d.dayofyear)\n",
        "  all_data['WeekOfYear'] = all_data['date'].apply(lambda d: d.weekofyear)\n",
        "  all_data['Hour'] = all_data['date'].apply(lambda d: d.hour)\n",
        "  period_dict ={\n",
        "    23: 7, 0: 7, 1: 7,\n",
        "    2: 0, 3: 0, 4: 0,\n",
        "    5: 1, 6: 1, 7: 1,\n",
        "    8: 2, 9: 2, 10: 2, 11: 2,\n",
        "    12: 3, 13: 3,\n",
        "    14: 4, 15: 4, 16: 4, 17: 4,\n",
        "    18: 5,\n",
        "    19: 6, 20: 6, 21: 6, 22: 6,\n",
        "    }\n",
        "  all_data['PeriodOfDay']=all_data['Hour'].map(period_dict)\n",
        "  all_data['Weekend'] = all_data['date'].apply(lambda x: True if x.dayofweek in [5, 6] else False)\n",
        "  public_vacation_list = [\n",
        "    '20170102', '20170128', '20170129', '20170130', '20170131',\n",
        "    '20170405', '20170414', '20170415', '20170417', '20170501',\n",
        "    '20170503', '20170530', '20170701', '20171002', '20171005',\n",
        "    '20171028', '20171225', '20171226', '20180101', '20180216',\n",
        "    '20180217', '20180218', '20180219', '20180330', '20180331',\n",
        "    '20180402', '20180405', '20180501', '20180522', '20180618',\n",
        "    '20180702', '20180925', '20181001', '20181017', '20181225',\n",
        "    '20181226'\n",
        "  ]\n",
        "  all_data['date'] = all_data['date'].apply(lambda x: x.strftime('%Y%m%d'))\n",
        "  all_data['vacation'] = all_data['date'].apply(lambda x: True if x in public_vacation_list else False)\n",
        "  \n",
        "  return all_data\n",
        "\n",
        "data = preprocess(all_data)\n",
        "trainInput = data.drop(['id','date','speed'], axis=1)\n",
        "trainTarget = data['speed']\n",
        "\n",
        "testset = preprocess(test_data)\n",
        "\n",
        "testInput = testset.drop(['id', 'date'], axis=1)\n"
      ],
      "execution_count": null,
      "outputs": []
    },
    {
      "cell_type": "code",
      "metadata": {
        "id": "Z0z9IXg-tl39"
      },
      "source": [
        "import lightgbm as lgb\n",
        "params = {\n",
        "    'learning_rate': 0.05,\n",
        "    'boosting_type': 'gbdt',\n",
        "    'objective': 'regression',\n",
        "    'metric': 'mse',\n",
        "    'sub_feature': 0.8,\n",
        "    'num_leaves': 300,\n",
        "    'min_data': 2,\n",
        "    'min_hessian': 1,\n",
        "    'verbose': 1,\n",
        "    'feature_fraction': 0.9,\n",
        "    'lambda_l1': 1e-4,\n",
        "}\n",
        "\n",
        "\n",
        "lgb_train = lgb.Dataset(trainInput, trainTarget)\n",
        "lgb_test = lgb.Dataset(testInput)\n",
        "\n",
        "gbm = lgb.train(params,lgb_train,900)\n",
        "prediction = gbm.predict(testInput)"
      ],
      "execution_count": null,
      "outputs": []
    },
    {
      "cell_type": "code",
      "metadata": {
        "id": "1wLyTLrsuisM"
      },
      "source": [
        "df = pd.DataFrame({'id':testInput.index, 'speed':prediction})"
      ],
      "execution_count": null,
      "outputs": []
    },
    {
      "cell_type": "code",
      "metadata": {
        "id": "nsXGPFKSvrhZ"
      },
      "source": [
        "df.to_csv('submission.csv')"
      ],
      "execution_count": null,
      "outputs": []
    }
  ]
}